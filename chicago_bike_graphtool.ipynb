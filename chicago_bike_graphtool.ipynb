{
 "cells": [
  {
   "cell_type": "code",
   "execution_count": 1,
   "metadata": {},
   "outputs": [],
   "source": [
    "# library\n",
    "import pandas as pd\n",
    "import networkx as nx\n",
    "import numpy as np\n",
    "import matplotlib\n",
    "matplotlib.use(\"Agg\")\n",
    "\n",
    "import matplotlib.pyplot as plt\n",
    "import matplotlib.ticker as ticker\n",
    "%matplotlib inline\n",
    "\n",
    "# from sklearn import preprocessing\n",
    "import glob\n",
    "import time\n",
    "from datetime import timedelta\n",
    "from PIL import Image\n",
    "\n",
    "plt.rcParams['font.family'] = 'Times New Roman'\n",
    "plt.rcParams['xtick.direction'] = 'in' # x axis in\n",
    "plt.rcParams['ytick.direction'] = 'in' # y axis in \n",
    "plt.rcParams['axes.linewidth'] = 1.0 # axis line width\n",
    "plt.rcParams['axes.grid'] = True # make grid\n",
    "\n",
    "import re\n",
    "import os\n",
    "import glob\n",
    "\n",
    "from sklearn.linear_model import LinearRegression\n",
    "import graph_tool as gt\n",
    "# import statsmodels.api as sm"
   ]
  },
  {
   "cell_type": "code",
   "execution_count": 2,
   "metadata": {},
   "outputs": [
    {
     "name": "stderr",
     "output_type": "stream",
     "text": [
      "/var/folders/n0/r52jwj117lx5t69xm0bw9b980000gn/T/ipykernel_29697/4197549428.py:1: DtypeWarning: Columns (2,10) have mixed types. Specify dtype option on import or set low_memory=False.\n",
      "  df = pd.read_csv('./data/divvy.csv',sep=',')\n"
     ]
    }
   ],
   "source": [
    "df = pd.read_csv('./data/divvy.csv',sep=',')"
   ]
  },
  {
   "cell_type": "code",
   "execution_count": null,
   "metadata": {},
   "outputs": [],
   "source": []
  }
 ],
 "metadata": {
  "kernelspec": {
   "display_name": "Python 3",
   "language": "python",
   "name": "python3"
  },
  "language_info": {
   "codemirror_mode": {
    "name": "ipython",
    "version": 3
   },
   "file_extension": ".py",
   "mimetype": "text/x-python",
   "name": "python",
   "nbconvert_exporter": "python",
   "pygments_lexer": "ipython3",
   "version": "3.8.13"
  },
  "orig_nbformat": 4
 },
 "nbformat": 4,
 "nbformat_minor": 2
}
